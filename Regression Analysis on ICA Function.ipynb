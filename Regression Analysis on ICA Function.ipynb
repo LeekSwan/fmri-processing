{
 "cells": [
  {
   "cell_type": "code",
   "execution_count": 2,
   "metadata": {},
   "outputs": [
    {
     "name": "stderr",
     "output_type": "stream",
     "text": [
      "C:\\Users\\Lixuan\\Anaconda3\\lib\\site-packages\\h5py\\__init__.py:34: FutureWarning: Conversion of the second argument of issubdtype from `float` to `np.floating` is deprecated. In future, it will be treated as `np.float64 == np.dtype(float).type`.\n",
      "  from ._conv import register_converters as _register_converters\n"
     ]
    },
    {
     "name": "stdout",
     "output_type": "stream",
     "text": [
      "Populating the interactive namespace from numpy and matplotlib\n"
     ]
    }
   ],
   "source": [
    "import numpy as np\n",
    "import nibabel as nib\n",
    "from scipy.stats import pearsonr\n",
    "from sklearn.decomposition import FastICA\n",
    "%pylab inline\n",
    "from sklearn.linear_model import LinearRegression\n",
    "import pickle"
   ]
  },
  {
   "cell_type": "code",
   "execution_count": 1,
   "metadata": {
    "collapsed": true
   },
   "outputs": [],
   "source": [
    "def reg_func(img, atlas, region, n_components, filename):\n",
    "    \n",
    "    #1. extract data:\n",
    "    atlas = nib.load(atlas)\n",
    "    img = nib.load(img)\n",
    "    \n",
    "    img_data = np.asarray(img._dataobj)\n",
    "    atlas_data = np.asarray(atlas._dataobj)\n",
    "    \n",
    "    #flattens 4d to 3d \n",
    "    x, y, z, t = img_data.shape\n",
    "    flatten_img_data = img_data.reshape([x*y*z, t])\n",
    "    \n",
    "    \n",
    "    #2. Run ICA:\n",
    "    ica = FastICA(n_components)\n",
    "    \n",
    "    region_mask = (atlas_data == region) #extracts region data\n",
    "    region_indices = np.nonzero(region_mask)\n",
    "\n",
    "    X = np.transpose(img_data[region_indices])\n",
    "    icomps = ica.fit_transform(X)\n",
    "    \n",
    "    #3. Regression Analysis:\n",
    "    estimator = LinearRegression()\n",
    "    estimator.fit(icomps, flatten_img_data.T) #transpose flatten img to match icomps\n",
    "    \n",
    "    result = estimator.coef_.reshape([x, y, z, 5])\n",
    "    \n",
    "    #print(result.shape)\n",
    "    \n",
    "    #4. Save to file\n",
    "    nii = nib.Nifti1Image(result, atlas.affine)\n",
    "    nii.to_filename(filename)\n",
    "    print('Output saved to ' + filename)\n",
    "    \n",
    "    #pickle.dump"
   ]
  },
  {
   "cell_type": "code",
   "execution_count": 22,
   "metadata": {
    "collapsed": true
   },
   "outputs": [],
   "source": [
    "atlas =  'OneDrive_1_11-16-2018/Atlas/Rat_Paxinos_400um_bilat_180823_atlas.nii.gz'"
   ]
  },
  {
   "cell_type": "code",
   "execution_count": 24,
   "metadata": {},
   "outputs": [
    {
     "name": "stderr",
     "output_type": "stream",
     "text": [
      "C:\\Users\\Lixuan\\Anaconda3\\lib\\site-packages\\sklearn\\decomposition\\fastica_.py:118: UserWarning: FastICA did not converge. Consider increasing tolerance or the maximum number of iterations.\n",
      "  warnings.warn('FastICA did not converge. Consider increasing '\n"
     ]
    },
    {
     "name": "stdout",
     "output_type": "stream",
     "text": [
      "Output saved to 1_regre.nii.gz\n",
      "Output saved to 2_regre.nii.gz\n",
      "Output saved to 3_regre.nii.gz\n",
      "Output saved to 4_regre.nii.gz\n",
      "Output saved to 5_regre.nii.gz\n",
      "Output saved to 6_regre.nii.gz\n",
      "Output saved to 7_regre.nii.gz\n",
      "Output saved to 8_regre.nii.gz\n",
      "Output saved to 9_regre.nii.gz\n"
     ]
    }
   ],
   "source": [
    "reg_func('OneDrive_1_11-16-2018/Data/sub-F01_task-rs_bold.nii.gz', atlas, 27, 5, '1_regre.nii.gz')\n",
    "reg_func('OneDrive_1_11-16-2018/Data/sub-F02_task-rs_bold.nii.gz', atlas, 27, 5, '2_regre.nii.gz')\n",
    "reg_func('OneDrive_1_11-16-2018/Data/sub-F03_task-rs_bold.nii.gz', atlas, 27, 5, '3_regre.nii.gz')\n",
    "reg_func('OneDrive_1_11-16-2018/Data/sub-F04_task-rs_bold.nii.gz', atlas, 27, 5, '4_regre.nii.gz')\n",
    "reg_func('OneDrive_1_11-16-2018/Data/sub-F05_task-rs_bold.nii.gz', atlas, 27, 5, '5_regre.nii.gz')\n",
    "reg_func('OneDrive_1_11-16-2018/Data/sub-F06_task-rs_bold.nii.gz', atlas, 27, 5, '6_regre.nii.gz')\n",
    "reg_func('OneDrive_1_11-16-2018/Data/sub-F07_task-rs_bold.nii.gz', atlas, 27, 5, '7_regre.nii.gz')\n",
    "reg_func('OneDrive_1_11-16-2018/Data/sub-F08_task-rs_bold.nii.gz', atlas, 27, 5, '8_regre.nii.gz')\n",
    "reg_func('OneDrive_1_11-16-2018/Data/sub-F09_task-rs_bold.nii.gz', atlas, 27, 5, '9_regre.nii.gz')\n",
    "\n"
   ]
  },
  {
   "cell_type": "code",
   "execution_count": 25,
   "metadata": {},
   "outputs": [
    {
     "name": "stderr",
     "output_type": "stream",
     "text": [
      "C:\\Users\\Lixuan\\Anaconda3\\lib\\site-packages\\sklearn\\decomposition\\fastica_.py:118: UserWarning: FastICA did not converge. Consider increasing tolerance or the maximum number of iterations.\n",
      "  warnings.warn('FastICA did not converge. Consider increasing '\n"
     ]
    },
    {
     "name": "stdout",
     "output_type": "stream",
     "text": [
      "Output saved to 10_regre.nii.gz\n"
     ]
    }
   ],
   "source": [
    "reg_func('OneDrive_1_11-16-2018/Data/sub-F10_task-rs_bold.nii.gz', atlas, 27, 5, '10_regre.nii.gz')\n"
   ]
  },
  {
   "cell_type": "code",
   "execution_count": null,
   "metadata": {
    "collapsed": true
   },
   "outputs": [],
   "source": []
  }
 ],
 "metadata": {
  "kernelspec": {
   "display_name": "Python 3",
   "language": "python",
   "name": "python3"
  },
  "language_info": {
   "codemirror_mode": {
    "name": "ipython",
    "version": 3
   },
   "file_extension": ".py",
   "mimetype": "text/x-python",
   "name": "python",
   "nbconvert_exporter": "python",
   "pygments_lexer": "ipython3",
   "version": "3.6.3"
  }
 },
 "nbformat": 4,
 "nbformat_minor": 2
}
