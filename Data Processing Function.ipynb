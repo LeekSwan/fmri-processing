{
 "cells": [
  {
   "cell_type": "code",
   "execution_count": 1,
   "metadata": {},
   "outputs": [
    {
     "name": "stdout",
     "output_type": "stream",
     "text": [
      "Populating the interactive namespace from numpy and matplotlib\n"
     ]
    },
    {
     "name": "stderr",
     "output_type": "stream",
     "text": [
      "C:\\Users\\Lixuan\\Anaconda3\\lib\\site-packages\\h5py\\__init__.py:34: FutureWarning: Conversion of the second argument of issubdtype from `float` to `np.floating` is deprecated. In future, it will be treated as `np.float64 == np.dtype(float).type`.\n",
      "  from ._conv import register_converters as _register_converters\n"
     ]
    }
   ],
   "source": [
    "%pylab inline\n",
    "import numpy as np\n",
    "import nibabel as nib\n",
    "from scipy.stats import pearsonr\n",
    "from sklearn.decomposition import FastICA"
   ]
  },
  {
   "cell_type": "code",
   "execution_count": 2,
   "metadata": {
    "collapsed": true
   },
   "outputs": [],
   "source": [
    "def datafunction(img, atlas, region, n_components, filename):\n",
    "    img = nib.load(img)\n",
    "    atlas = nib.load(atlas)\n",
    "    \n",
    "    #turns data into matrix\n",
    "    img_data = np.asarray(img._dataobj)\n",
    "    atlas_data = np.asarray(atlas._dataobj)\n",
    "    \n",
    "    #Region refers to region number in ITK\n",
    "    region_mask = (atlas_data == region) #extracts region data\n",
    "    region_indices = np.nonzero(region_mask)\n",
    "    \n",
    "    ica = FastICA(n_components) \n",
    "    \n",
    "    X = np.transpose(img_data[region_indices])\n",
    "    icomps = ica.fit_transform(X)\n",
    "\n",
    "    output = []\n",
    "    for i, c in enumerate(icomps.T):\n",
    "        output.append(np.zeros(X.shape[1]))\n",
    "        for v in range (X.shape[1]):\n",
    "            output[i][v] = pearsonr(c, X[:, v])[0]\n",
    "    \n",
    "    output_volume = np.zeros(atlas_data.shape)\n",
    "    for i, (x, y, z) in enumerate(np.transpose(region_indices)):\n",
    "        output_volume[x, y, z] = output[0][i]\n",
    "        \n",
    "    \n",
    "    #Saves to file\n",
    "    nii = nib.Nifti1Image(output_volume, atlas.affine)\n",
    "    nii.to_filename(filename)\n",
    "    print('Output saved to ' + filename)\n",
    "    \n",
    "    "
   ]
  },
  {
   "cell_type": "code",
   "execution_count": 3,
   "metadata": {
    "collapsed": true
   },
   "outputs": [],
   "source": [
    "Atlas = 'OneDrive_1_11-16-2018/Atlas/Rat_Paxinos_400um_bilat_180823_atlas.nii.gz'\n",
    "\n",
    "imglist = ['OneDrive_1_11-16-2018/Data/sub-F01_task-rs_bold.nii.gz', 'OneDrive_1_11-16-2018/Data/sub-F02_task-rs_bold.nii.gz'\n",
    "                   ,'OneDrive_1_11-16-2018/Data/sub-F03_task-rs_bold.nii.gz','OneDrive_1_11-16-2018/Data/sub-F04_task-rs_bold.nii.gz'\n",
    "                   ,'OneDrive_1_11-16-2018/Data/sub-F05_task-rs_bold.nii.gz','OneDrive_1_11-16-2018/Data/sub-F06_task-rs_bold.nii.gz'\n",
    "                   ,'OneDrive_1_11-16-2018/Data/sub-F07_task-rs_bold.nii.gz','OneDrive_1_11-16-2018/Data/sub-F08_task-rs_bold.nii.gz'\n",
    "                   ,'OneDrive_1_11-16-2018/Data/sub-F09_task-rs_bold.nii.gz','OneDrive_1_11-16-2018/Data/sub-F10_task-rs_bold.nii.gz']\n",
    "filename = ['1_comp.nii.gz', '2_comp.nii.gz', '3_comp.nii.gz', '4_comp.nii.gz', '5_comp.nii.gz', '6_comp.nii.gz',\n",
    "            '7_comp.nii.gz', '8_comp.nii.gz', '9_comp.nii.gz', '10_comp.nii.gz']"
   ]
  },
  {
   "cell_type": "code",
   "execution_count": 4,
   "metadata": {},
   "outputs": [
    {
     "name": "stderr",
     "output_type": "stream",
     "text": [
      "C:\\Users\\Lixuan\\Anaconda3\\lib\\site-packages\\sklearn\\decomposition\\fastica_.py:118: UserWarning: FastICA did not converge. Consider increasing tolerance or the maximum number of iterations.\n",
      "  warnings.warn('FastICA did not converge. Consider increasing '\n"
     ]
    },
    {
     "name": "stdout",
     "output_type": "stream",
     "text": [
      "Output saved to 1_comp.nii.gz\n",
      "Output saved to 2_comp.nii.gz\n",
      "Output saved to 3_comp.nii.gz\n",
      "Output saved to 4_comp.nii.gz\n",
      "Output saved to 5_comp.nii.gz\n",
      "Output saved to 6_comp.nii.gz\n",
      "Output saved to 7_comp.nii.gz\n",
      "Output saved to 8_comp.nii.gz\n",
      "Output saved to 9_comp.nii.gz\n",
      "Output saved to 10_comp.nii.gz\n"
     ]
    }
   ],
   "source": [
    "for i in range(10):\n",
    "    datafunction(imglist[i], Atlas, 27, 5, filename[i])\n",
    "\n"
   ]
  },
  {
   "cell_type": "code",
   "execution_count": 2,
   "metadata": {},
   "outputs": [
    {
     "ename": "SyntaxError",
     "evalue": "invalid syntax (<ipython-input-2-5323d5cbc1e7>, line 1)",
     "output_type": "error",
     "traceback": [
      "\u001b[1;36m  File \u001b[1;32m\"<ipython-input-2-5323d5cbc1e7>\"\u001b[1;36m, line \u001b[1;32m1\u001b[0m\n\u001b[1;33m    echo \"# fMRI-processing-function\" >> README.md\u001b[0m\n\u001b[1;37m                                    ^\u001b[0m\n\u001b[1;31mSyntaxError\u001b[0m\u001b[1;31m:\u001b[0m invalid syntax\n"
     ]
    }
   ],
   "source": [
    "echo \"# fMRI-processing-function\" >> README.md\n",
    "git init\n",
    "git add README.md\n",
    "git commit -m \"first commit\"\n",
    "git remote add origin https://github.com/LeekSwan/fMRI-processing-function.git\n",
    "git push -u origin master\n"
   ]
  },
  {
   "cell_type": "code",
   "execution_count": null,
   "metadata": {
    "collapsed": true
   },
   "outputs": [],
   "source": []
  }
 ],
 "metadata": {
  "kernelspec": {
   "display_name": "Python 3",
   "language": "python",
   "name": "python3"
  },
  "language_info": {
   "codemirror_mode": {
    "name": "ipython",
    "version": 3
   },
   "file_extension": ".py",
   "mimetype": "text/x-python",
   "name": "python",
   "nbconvert_exporter": "python",
   "pygments_lexer": "ipython3",
   "version": "3.6.3"
  }
 },
 "nbformat": 4,
 "nbformat_minor": 2
}
