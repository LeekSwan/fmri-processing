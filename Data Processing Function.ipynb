{
 "cells": [
  {
   "cell_type": "code",
   "execution_count": 1,
   "metadata": {},
   "outputs": [
    {
     "name": "stdout",
     "output_type": "stream",
     "text": [
      "Populating the interactive namespace from numpy and matplotlib\n"
     ]
    },
    {
     "name": "stderr",
     "output_type": "stream",
     "text": [
      "C:\\Users\\Lixuan\\Anaconda3\\lib\\site-packages\\h5py\\__init__.py:34: FutureWarning: Conversion of the second argument of issubdtype from `float` to `np.floating` is deprecated. In future, it will be treated as `np.float64 == np.dtype(float).type`.\n",
      "  from ._conv import register_converters as _register_converters\n"
     ]
    }
   ],
   "source": [
    "%pylab inline\n",
    "import numpy as np\n",
    "import nibabel as nib\n",
    "from scipy.stats import pearsonr\n",
    "from sklearn.decomposition import FastICA"
   ]
  },
  {
   "cell_type": "code",
   "execution_count": 2,
   "metadata": {
    "collapsed": true
   },
   "outputs": [],
   "source": [
    "def datafunction(img, atlas, region, n_components, filename):\n",
    "    #img and atlas must be inputed as strings.\n",
    "    #Img refers to data sets to be visualized. \n",
    "    #atlas refers the brain whole brain data\n",
    "    #region refer specific region that is to be extracted and analyzed. Must be an intiger\n",
    "    # n_comonents refers to number of components for the FastICA to use. Must be intiger\n",
    "    # filename refers to what the name of the output file. Must be a string. \n",
    "    \n",
    "    img = nib.load(img)\n",
    "    atlas = nib.load(atlas)\n",
    "    \n",
    "    #transfers data to matrix\n",
    "    img_data = np.asarray(img._dataobj)\n",
    "    atlas_data = np.asarray(atlas._dataobj)\n",
    "    \n",
    "    #Region refers to region number in ITK\n",
    "    region_mask = (atlas_data == region) #extracts region data\n",
    "    region_indices = np.nonzero(region_mask)\n",
    "    \n",
    "    ica = FastICA(n_components) \n",
    "    \n",
    "    X = np.transpose(img_data[region_indices])\n",
    "    icomps = ica.fit_transform(X)\n",
    "\n",
    "    output = []\n",
    "    for i, c in enumerate(icomps.T):\n",
    "        output.append(np.zeros(X.shape[1]))\n",
    "        for v in range (X.shape[1]):\n",
    "            output[i][v] = pearsonr(c, X[:, v])[0]\n",
    "    \n",
    "    output_volume = np.zeros(atlas_data.shape)\n",
    "    for i, (x, y, z) in enumerate(np.transpose(region_indices)):\n",
    "        output_volume[x, y, z] = output[0][i]\n",
    "        \n",
    "    \n",
    "    #Saves to file\n",
    "    nii = nib.Nifti1Image(output_volume, atlas.affine)\n",
    "    nii.to_filename(filename)\n",
    "    print('Output saved to ' + filename)\n",
    "    \n",
    "    "
   ]
  },
  {
   "cell_type": "code",
   "execution_count": 3,
   "metadata": {
    "collapsed": true
   },
   "outputs": [],
   "source": [
    "#Example function call:\n",
    "\n",
    "datafunction('OneDrive_1_11-16-2018/Data/sub-F01_task-rs_bold.nii.gz',\n",
    "             'OneDrive_1_11-16-2018/Atlas/Rat_Paxinos_400um_bilat_180823_atlas.nii.gz',\n",
    "             27, 5, '1_comp.nii.gz')"
   ]
  }
 ],
 "metadata": {
  "kernelspec": {
   "display_name": "Python 3",
   "language": "python",
   "name": "python3"
  },
  "language_info": {
   "codemirror_mode": {
    "name": "ipython",
    "version": 3
   },
   "file_extension": ".py",
   "mimetype": "text/x-python",
   "name": "python",
   "nbconvert_exporter": "python",
   "pygments_lexer": "ipython3",
   "version": "3.6.3"
  }
 },
 "nbformat": 4,
 "nbformat_minor": 2
}
