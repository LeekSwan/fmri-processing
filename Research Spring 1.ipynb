{
 "cells": [
  {
   "cell_type": "code",
   "execution_count": 2,
   "metadata": {},
   "outputs": [
    {
     "name": "stdout",
     "output_type": "stream",
     "text": [
      "Populating the interactive namespace from numpy and matplotlib\n"
     ]
    },
    {
     "name": "stderr",
     "output_type": "stream",
     "text": [
      "C:\\Users\\Lixuan\\Anaconda3\\lib\\site-packages\\h5py\\__init__.py:34: FutureWarning: Conversion of the second argument of issubdtype from `float` to `np.floating` is deprecated. In future, it will be treated as `np.float64 == np.dtype(float).type`.\n",
      "  from ._conv import register_converters as _register_converters\n"
     ]
    }
   ],
   "source": [
    "%pylab inline\n",
    "import numpy as np\n",
    "import nibabel as nib\n",
    "from scipy.stats import pearsonr\n",
    "from sklearn.decomposition import FastICA"
   ]
  },
  {
   "cell_type": "code",
   "execution_count": 3,
   "metadata": {
    "collapsed": true
   },
   "outputs": [],
   "source": [
    "atlas_string = 'OneDrive_1_11-16-2018/Atlas/Rat_Paxinos_400um_bilat_180823_atlas.nii.gz'"
   ]
  },
  {
   "cell_type": "code",
   "execution_count": 4,
   "metadata": {
    "collapsed": true
   },
   "outputs": [],
   "source": [
    "def datafunction(img, atlas):\n",
    "\n",
    "    img_ = nib.load(img)\n",
    "    atlas_ = nib.load(atlas)\n",
    "    \n",
    "    #transfers data to matrix\n",
    "    img_data = np.asarray(img_._dataobj)\n",
    "    atlas_data = np.asarray(atlas_._dataobj)\n",
    "    \n",
    "    #Region refers to region number in ITK\n",
    "    region_mask = (atlas_data == 27) #extracts region data\n",
    "    region_indices = np.nonzero(region_mask)\n",
    "    \n",
    "    return img_data[region_indices].mean(axis = 0)"
   ]
  },
  {
   "cell_type": "code",
   "execution_count": 5,
   "metadata": {},
   "outputs": [
    {
     "name": "stdout",
     "output_type": "stream",
     "text": [
      "data 1\n",
      "data 2\n",
      "data 3\n",
      "data 4\n",
      "data 5\n",
      "data 6\n",
      "data 7\n",
      "data 8\n",
      "data 9\n",
      "data 10\n"
     ]
    }
   ],
   "source": [
    "time_course_data1 = datafunction('OneDrive_1_11-16-2018/Data/sub-F01_task-rs_bold.nii.gz', atlas_string)\n",
    "print('data 1')\n",
    "time_course_data2 = datafunction('OneDrive_1_11-16-2018/Data/sub-F02_task-rs_bold.nii.gz', atlas_string)\n",
    "print('data 2')\n",
    "time_course_data3 = datafunction('OneDrive_1_11-16-2018/Data/sub-F03_task-rs_bold.nii.gz', atlas_string)\n",
    "print('data 3')\n",
    "time_course_data4 = datafunction('OneDrive_1_11-16-2018/Data/sub-F04_task-rs_bold.nii.gz', atlas_string)\n",
    "print('data 4')\n",
    "time_course_data5 = datafunction('OneDrive_1_11-16-2018/Data/sub-F05_task-rs_bold.nii.gz', atlas_string)\n",
    "print('data 5')\n",
    "time_course_data6 = datafunction('OneDrive_1_11-16-2018/Data/sub-F06_task-rs_bold.nii.gz', atlas_string)\n",
    "print('data 6')\n",
    "time_course_data7 = datafunction('OneDrive_1_11-16-2018/Data/sub-F07_task-rs_bold.nii.gz', atlas_string)\n",
    "print('data 7')\n",
    "time_course_data8 = datafunction('OneDrive_1_11-16-2018/Data/sub-F08_task-rs_bold.nii.gz', atlas_string)\n",
    "print('data 8')\n",
    "time_course_data9 = datafunction('OneDrive_1_11-16-2018/Data/sub-F09_task-rs_bold.nii.gz', atlas_string)\n",
    "print('data 9')\n",
    "time_course_data10 = datafunction('OneDrive_1_11-16-2018/Data/sub-F10_task-rs_bold.nii.gz', atlas_string)\n",
    "print('data 10')\n"
   ]
  },
  {
   "cell_type": "code",
   "execution_count": 6,
   "metadata": {},
   "outputs": [
    {
     "data": {
      "text/plain": [
       "(900,)"
      ]
     },
     "execution_count": 6,
     "metadata": {},
     "output_type": "execute_result"
    }
   ],
   "source": [
    "time_course_data1.shape"
   ]
  },
  {
   "cell_type": "code",
   "execution_count": 12,
   "metadata": {
    "collapsed": true
   },
   "outputs": [],
   "source": [
    "concatenated = np.concatenate((time_course_data1, time_course_data2, time_course_data3, time_course_data4, time_course_data5, time_course_data6,\n",
    "              time_course_data7, time_course_data8, time_course_data9, time_course_data10), axis = 0)"
   ]
  },
  {
   "cell_type": "code",
   "execution_count": 15,
   "metadata": {},
   "outputs": [
    {
     "data": {
      "text/plain": [
       "[<matplotlib.lines.Line2D at 0x20916015160>]"
      ]
     },
     "execution_count": 15,
     "metadata": {},
     "output_type": "execute_result"
    },
    {
     "data": {
      "image/png": "[encoded data removed]",
      "text/plain": [
       "<matplotlib.figure.Figure at 0x20915fcda90>"
      ]
     },
     "metadata": {},
     "output_type": "display_data"
    }
   ],
   "source": [
    "xlim(0, 900)\n",
    "plot(concatenated)\n"
   ]
  },
  {
   "cell_type": "code",
   "execution_count": 105,
   "metadata": {
    "collapsed": true
   },
   "outputs": [],
   "source": [
    "ica = FastICA(5)"
   ]
  },
  {
   "cell_type": "code",
   "execution_count": 107,
   "metadata": {},
   "outputs": [
    {
     "name": "stderr",
     "output_type": "stream",
     "text": [
      "C:\\Users\\Lixuan\\Anaconda3\\lib\\site-packages\\sklearn\\decomposition\\fastica_.py:118: UserWarning: FastICA did not converge. Consider increasing tolerance or the maximum number of iterations.\n",
      "  warnings.warn('FastICA did not converge. Consider increasing '\n"
     ]
    }
   ],
   "source": [
    "X = np.transpose(img_data[region_indices])\n",
    "icomps = ica.fit_transform(X)"
   ]
  },
  {
   "cell_type": "code",
   "execution_count": 109,
   "metadata": {
    "collapsed": true
   },
   "outputs": [],
   "source": [
    "output = []\n",
    "for i, c in enumerate(icomps.T):\n",
    "    output.append(np.zeros(X.shape[1]))\n",
    "    for v in range (X.shape[1]):\n",
    "        output[i][v] = pearsonr(c, X[:, v])[0]\n",
    "    \n",
    "output_volume = np.zeros(atlas_data.shape)\n",
    "for i, (x, y, z) in enumerate(np.transpose(region_indices)):\n",
    "    output_volume[x, y, z] = output[0][i]"
   ]
  },
  {
   "cell_type": "code",
   "execution_count": 113,
   "metadata": {},
   "outputs": [
    {
     "data": {
      "text/plain": [
       "(72, 72, 32)"
      ]
     },
     "execution_count": 113,
     "metadata": {},
     "output_type": "execute_result"
    }
   ],
   "source": [
    "output_volume.shape"
   ]
  },
  {
   "cell_type": "code",
   "execution_count": 117,
   "metadata": {},
   "outputs": [
    {
     "name": "stdout",
     "output_type": "stream",
     "text": [
      "Output saved to final_comp.nii.gz\n"
     ]
    }
   ],
   "source": [
    "#Saves to file\n",
    "nii = nib.Nifti1Image(output_volume, atlas.affine)\n",
    "nii.to_filename('final_comp.nii.gz')\n",
    "print('Output saved to ' + 'final_comp.nii.gz')"
   ]
  },
  {
   "cell_type": "code",
   "execution_count": null,
   "metadata": {
    "collapsed": true
   },
   "outputs": [],
   "source": []
  }
 ],
 "metadata": {
  "kernelspec": {
   "display_name": "Python 3",
   "language": "python",
   "name": "python3"
  },
  "language_info": {
   "codemirror_mode": {
    "name": "ipython",
    "version": 3
   },
   "file_extension": ".py",
   "mimetype": "text/x-python",
   "name": "python",
   "nbconvert_exporter": "python",
   "pygments_lexer": "ipython3",
   "version": "3.6.3"
  }
 },
 "nbformat": 4,
 "nbformat_minor": 2
}
